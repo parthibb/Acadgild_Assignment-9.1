{
 "cells": [
  {
   "cell_type": "code",
   "execution_count": 2,
   "metadata": {},
   "outputs": [
    {
     "data": {
      "text/html": [
       "<div>\n",
       "<style scoped>\n",
       "    .dataframe tbody tr th:only-of-type {\n",
       "        vertical-align: middle;\n",
       "    }\n",
       "\n",
       "    .dataframe tbody tr th {\n",
       "        vertical-align: top;\n",
       "    }\n",
       "\n",
       "    .dataframe thead th {\n",
       "        text-align: right;\n",
       "    }\n",
       "</style>\n",
       "<table border=\"1\" class=\"dataframe\">\n",
       "  <thead>\n",
       "    <tr style=\"text-align: right;\">\n",
       "      <th></th>\n",
       "      <th>X</th>\n",
       "      <th>Y</th>\n",
       "    </tr>\n",
       "  </thead>\n",
       "  <tbody>\n",
       "    <tr>\n",
       "      <th>0</th>\n",
       "      <td>7</td>\n",
       "      <td>1</td>\n",
       "    </tr>\n",
       "    <tr>\n",
       "      <th>1</th>\n",
       "      <td>2</td>\n",
       "      <td>2</td>\n",
       "    </tr>\n",
       "    <tr>\n",
       "      <th>2</th>\n",
       "      <td>0</td>\n",
       "      <td>0</td>\n",
       "    </tr>\n",
       "    <tr>\n",
       "      <th>3</th>\n",
       "      <td>3</td>\n",
       "      <td>1</td>\n",
       "    </tr>\n",
       "    <tr>\n",
       "      <th>4</th>\n",
       "      <td>4</td>\n",
       "      <td>2</td>\n",
       "    </tr>\n",
       "    <tr>\n",
       "      <th>5</th>\n",
       "      <td>2</td>\n",
       "      <td>3</td>\n",
       "    </tr>\n",
       "    <tr>\n",
       "      <th>6</th>\n",
       "      <td>5</td>\n",
       "      <td>4</td>\n",
       "    </tr>\n",
       "    <tr>\n",
       "      <th>7</th>\n",
       "      <td>0</td>\n",
       "      <td>0</td>\n",
       "    </tr>\n",
       "    <tr>\n",
       "      <th>8</th>\n",
       "      <td>3</td>\n",
       "      <td>1</td>\n",
       "    </tr>\n",
       "    <tr>\n",
       "      <th>9</th>\n",
       "      <td>4</td>\n",
       "      <td>2</td>\n",
       "    </tr>\n",
       "  </tbody>\n",
       "</table>\n",
       "</div>"
      ],
      "text/plain": [
       "   X  Y\n",
       "0  7  1\n",
       "1  2  2\n",
       "2  0  0\n",
       "3  3  1\n",
       "4  4  2\n",
       "5  2  3\n",
       "6  5  4\n",
       "7  0  0\n",
       "8  3  1\n",
       "9  4  2"
      ]
     },
     "execution_count": 2,
     "metadata": {},
     "output_type": "execute_result"
    }
   ],
   "source": [
    "import pandas as pd\n",
    "df = pd.DataFrame({'X': [7, 2, 0, 3, 4, 2, 5, 0, 3, 4]})\n",
    "import numpy as np\n",
    "izero = np.r_[-1, (df['X'] == 0).nonzero()[0]] # indices of zeros\n",
    "izero\n",
    "idx = np.arange(len(df))\n",
    "idx\n",
    "df['Y'] = idx - izero[np.searchsorted(izero - 1, idx) - 1]\n",
    "df"
   ]
  },
  {
   "cell_type": "code",
   "execution_count": 3,
   "metadata": {
    "scrolled": true
   },
   "outputs": [
    {
     "data": {
      "text/html": [
       "<div>\n",
       "<style scoped>\n",
       "    .dataframe tbody tr th:only-of-type {\n",
       "        vertical-align: middle;\n",
       "    }\n",
       "\n",
       "    .dataframe tbody tr th {\n",
       "        vertical-align: top;\n",
       "    }\n",
       "\n",
       "    .dataframe thead th {\n",
       "        text-align: right;\n",
       "    }\n",
       "</style>\n",
       "<table border=\"1\" class=\"dataframe\">\n",
       "  <thead>\n",
       "    <tr style=\"text-align: right;\">\n",
       "      <th></th>\n",
       "      <th>X</th>\n",
       "      <th>Y</th>\n",
       "    </tr>\n",
       "  </thead>\n",
       "  <tbody>\n",
       "    <tr>\n",
       "      <th>0</th>\n",
       "      <td>7</td>\n",
       "      <td>1.0</td>\n",
       "    </tr>\n",
       "    <tr>\n",
       "      <th>1</th>\n",
       "      <td>2</td>\n",
       "      <td>2.0</td>\n",
       "    </tr>\n",
       "    <tr>\n",
       "      <th>2</th>\n",
       "      <td>0</td>\n",
       "      <td>0.0</td>\n",
       "    </tr>\n",
       "    <tr>\n",
       "      <th>3</th>\n",
       "      <td>3</td>\n",
       "      <td>1.0</td>\n",
       "    </tr>\n",
       "    <tr>\n",
       "      <th>4</th>\n",
       "      <td>4</td>\n",
       "      <td>2.0</td>\n",
       "    </tr>\n",
       "    <tr>\n",
       "      <th>5</th>\n",
       "      <td>2</td>\n",
       "      <td>3.0</td>\n",
       "    </tr>\n",
       "    <tr>\n",
       "      <th>6</th>\n",
       "      <td>5</td>\n",
       "      <td>4.0</td>\n",
       "    </tr>\n",
       "    <tr>\n",
       "      <th>7</th>\n",
       "      <td>0</td>\n",
       "      <td>0.0</td>\n",
       "    </tr>\n",
       "    <tr>\n",
       "      <th>8</th>\n",
       "      <td>3</td>\n",
       "      <td>1.0</td>\n",
       "    </tr>\n",
       "    <tr>\n",
       "      <th>9</th>\n",
       "      <td>4</td>\n",
       "      <td>2.0</td>\n",
       "    </tr>\n",
       "  </tbody>\n",
       "</table>\n",
       "</div>"
      ],
      "text/plain": [
       "   X    Y\n",
       "0  7  1.0\n",
       "1  2  2.0\n",
       "2  0  0.0\n",
       "3  3  1.0\n",
       "4  4  2.0\n",
       "5  2  3.0\n",
       "6  5  4.0\n",
       "7  0  0.0\n",
       "8  3  1.0\n",
       "9  4  2.0"
      ]
     },
     "execution_count": 3,
     "metadata": {},
     "output_type": "execute_result"
    }
   ],
   "source": [
    "x = (df['X'] != 0).cumsum()\n",
    "y = x != x.shift()\n",
    "df['Y'] = y.groupby((y != y.shift()).cumsum()).cumsum()\n",
    "df"
   ]
  },
  {
   "cell_type": "code",
   "execution_count": 4,
   "metadata": {},
   "outputs": [
    {
     "data": {
      "text/plain": [
       "2015-01-01    0.405194\n",
       "2015-01-02    0.837192\n",
       "2015-01-05    0.788918\n",
       "2015-01-06    0.130469\n",
       "2015-01-07    0.577024\n",
       "2015-01-08    0.998239\n",
       "2015-01-09    0.103913\n",
       "2015-01-12    0.409205\n",
       "2015-01-13    0.700829\n",
       "2015-01-14    0.552033\n",
       "2015-01-15    0.476005\n",
       "2015-01-16    0.449477\n",
       "2015-01-19    0.756310\n",
       "2015-01-20    0.031765\n",
       "2015-01-21    0.828346\n",
       "2015-01-22    0.881750\n",
       "2015-01-23    0.301766\n",
       "2015-01-26    0.172515\n",
       "2015-01-27    0.089748\n",
       "2015-01-28    0.103781\n",
       "2015-01-29    0.998056\n",
       "2015-01-30    0.393436\n",
       "2015-02-02    0.480534\n",
       "2015-02-03    0.722841\n",
       "2015-02-04    0.481230\n",
       "2015-02-05    0.596779\n",
       "2015-02-06    0.407574\n",
       "2015-02-09    0.766632\n",
       "2015-02-10    0.618386\n",
       "2015-02-11    0.355656\n",
       "                ...   \n",
       "2015-11-20    0.707563\n",
       "2015-11-23    0.270680\n",
       "2015-11-24    0.577628\n",
       "2015-11-25    0.050533\n",
       "2015-11-26    0.843826\n",
       "2015-11-27    0.771004\n",
       "2015-11-30    0.229020\n",
       "2015-12-01    0.738483\n",
       "2015-12-02    0.777895\n",
       "2015-12-03    0.553475\n",
       "2015-12-04    0.521622\n",
       "2015-12-07    0.259308\n",
       "2015-12-08    0.349898\n",
       "2015-12-09    0.534437\n",
       "2015-12-10    0.926906\n",
       "2015-12-11    0.066400\n",
       "2015-12-14    0.824025\n",
       "2015-12-15    0.600597\n",
       "2015-12-16    0.496797\n",
       "2015-12-17    0.717163\n",
       "2015-12-18    0.358267\n",
       "2015-12-21    0.096174\n",
       "2015-12-22    0.748848\n",
       "2015-12-23    0.770849\n",
       "2015-12-24    0.193326\n",
       "2015-12-25    0.160361\n",
       "2015-12-28    0.070554\n",
       "2015-12-29    0.309224\n",
       "2015-12-30    0.483381\n",
       "2015-12-31    0.681008\n",
       "Freq: B, Length: 261, dtype: float64"
      ]
     },
     "execution_count": 4,
     "metadata": {},
     "output_type": "execute_result"
    }
   ],
   "source": [
    "dti = pd.date_range(start='2015-01-01', end='2015-12-31', freq='B')\n",
    "s = pd.Series(np.random.rand(len(dti)), index=dti)\n",
    "dti\n",
    "s"
   ]
  },
  {
   "cell_type": "code",
   "execution_count": 5,
   "metadata": {
    "scrolled": true
   },
   "outputs": [
    {
     "data": {
      "text/plain": [
       "2015-01-01    0.405194\n",
       "2015-01-02    0.837192\n",
       "2015-01-05    0.788918\n",
       "2015-01-06    0.130469\n",
       "2015-01-07    0.577024\n",
       "2015-01-08    0.998239\n",
       "2015-01-09    0.103913\n",
       "2015-01-12    0.409205\n",
       "2015-01-13    0.700829\n",
       "2015-01-14    0.552033\n",
       "2015-01-15    0.476005\n",
       "2015-01-16    0.449477\n",
       "2015-01-19    0.756310\n",
       "2015-01-20    0.031765\n",
       "2015-01-21    0.828346\n",
       "2015-01-22    0.881750\n",
       "2015-01-23    0.301766\n",
       "2015-01-26    0.172515\n",
       "2015-01-27    0.089748\n",
       "2015-01-28    0.103781\n",
       "2015-01-29    0.998056\n",
       "2015-01-30    0.393436\n",
       "2015-02-02    0.480534\n",
       "2015-02-03    0.722841\n",
       "2015-02-04    0.481230\n",
       "2015-02-05    0.596779\n",
       "2015-02-06    0.407574\n",
       "2015-02-09    0.766632\n",
       "2015-02-10    0.618386\n",
       "2015-02-11    0.355656\n",
       "                ...   \n",
       "2015-11-20    0.707563\n",
       "2015-11-23    0.270680\n",
       "2015-11-24    0.577628\n",
       "2015-11-25    0.050533\n",
       "2015-11-26    0.843826\n",
       "2015-11-27    0.771004\n",
       "2015-11-30    0.229020\n",
       "2015-12-01    0.738483\n",
       "2015-12-02    0.777895\n",
       "2015-12-03    0.553475\n",
       "2015-12-04    0.521622\n",
       "2015-12-07    0.259308\n",
       "2015-12-08    0.349898\n",
       "2015-12-09    0.534437\n",
       "2015-12-10    0.926906\n",
       "2015-12-11    0.066400\n",
       "2015-12-14    0.824025\n",
       "2015-12-15    0.600597\n",
       "2015-12-16    0.496797\n",
       "2015-12-17    0.717163\n",
       "2015-12-18    0.358267\n",
       "2015-12-21    0.096174\n",
       "2015-12-22    0.748848\n",
       "2015-12-23    0.770849\n",
       "2015-12-24    0.193326\n",
       "2015-12-25    0.160361\n",
       "2015-12-28    0.070554\n",
       "2015-12-29    0.309224\n",
       "2015-12-30    0.483381\n",
       "2015-12-31    0.681008\n",
       "Freq: B, Length: 261, dtype: float64"
      ]
     },
     "execution_count": 5,
     "metadata": {},
     "output_type": "execute_result"
    }
   ],
   "source": [
    "s"
   ]
  },
  {
   "cell_type": "code",
   "execution_count": 6,
   "metadata": {},
   "outputs": [
    {
     "data": {
      "text/plain": [
       "23.650078550088015"
      ]
     },
     "execution_count": 6,
     "metadata": {},
     "output_type": "execute_result"
    }
   ],
   "source": [
    "s[s.index.weekday==2].sum()"
   ]
  },
  {
   "cell_type": "code",
   "execution_count": 7,
   "metadata": {},
   "outputs": [
    {
     "data": {
      "text/plain": [
       "2015-01-31    0.499362\n",
       "2015-02-28    0.505905\n",
       "2015-03-31    0.455481\n",
       "2015-04-30    0.489681\n",
       "2015-05-31    0.406192\n",
       "2015-06-30    0.603457\n",
       "2015-07-31    0.518744\n",
       "2015-08-31    0.532572\n",
       "2015-09-30    0.376085\n",
       "2015-10-31    0.495928\n",
       "2015-11-30    0.557659\n",
       "2015-12-31    0.488652\n",
       "Freq: M, dtype: float64"
      ]
     },
     "execution_count": 7,
     "metadata": {},
     "output_type": "execute_result"
    }
   ],
   "source": [
    "s.resample('M').mean()"
   ]
  },
  {
   "cell_type": "code",
   "execution_count": 8,
   "metadata": {},
   "outputs": [
    {
     "data": {
      "text/plain": [
       "2015-01-31   2015-01-08\n",
       "2015-05-31   2015-02-23\n",
       "2015-09-30   2015-08-27\n",
       "2016-01-31   2015-11-10\n",
       "dtype: datetime64[ns]"
      ]
     },
     "execution_count": 8,
     "metadata": {},
     "output_type": "execute_result"
    }
   ],
   "source": [
    "s.groupby(pd.Grouper(freq='4M')).idxmax()"
   ]
  },
  {
   "cell_type": "code",
   "execution_count": null,
   "metadata": {},
   "outputs": [],
   "source": []
  }
 ],
 "metadata": {
  "kernelspec": {
   "display_name": "Python 3",
   "language": "python",
   "name": "python3"
  },
  "language_info": {
   "codemirror_mode": {
    "name": "ipython",
    "version": 3
   },
   "file_extension": ".py",
   "mimetype": "text/x-python",
   "name": "python",
   "nbconvert_exporter": "python",
   "pygments_lexer": "ipython3",
   "version": "3.6.4"
  }
 },
 "nbformat": 4,
 "nbformat_minor": 2
}
